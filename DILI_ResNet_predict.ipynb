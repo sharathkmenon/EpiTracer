{
  "nbformat": 4,
  "nbformat_minor": 0,
  "metadata": {
    "colab": {
      "name": "DILI_ResNet_predict.ipynb",
      "provenance": [],
      "include_colab_link": true
    },
    "kernelspec": {
      "name": "python3",
      "display_name": "Python 3"
    }
  },
  "cells": [
    {
      "cell_type": "markdown",
      "metadata": {
        "id": "view-in-github",
        "colab_type": "text"
      },
      "source": [
        "<a href=\"https://colab.research.google.com/github/sharathkmenon/EpiTracer/blob/master/DILI_ResNet_predict.ipynb\" target=\"_parent\"><img src=\"https://colab.research.google.com/assets/colab-badge.svg\" alt=\"Open In Colab\"/></a>"
      ]
    },
    {
      "cell_type": "code",
      "metadata": {
        "id": "9SeSGyGSH9Cm",
        "colab_type": "code",
        "colab": {}
      },
      "source": [
        "# resnet model \n",
        "# teh general structure is taken from:-  https://github.com/hfawaz/dl-4-tsc\n",
        "\n",
        "import tensorflow.keras as keras\n",
        "import tensorflow as tf\n",
        "import numpy as np\n",
        "import time\n",
        "import pandas as pd\n",
        "\n",
        "import matplotlib\n",
        "matplotlib.use('agg')\n",
        "import matplotlib.pyplot as plt\n"
      ],
      "execution_count": null,
      "outputs": []
    },
    {
      "cell_type": "code",
      "metadata": {
        "id": "AiF2AIIEIHVU",
        "colab_type": "code",
        "colab": {}
      },
      "source": [
        "class Classifier_RESNET:\n",
        "\n",
        "    def build_model(input_shape, nb_classes):\n",
        "        n_feature_maps = 9\n",
        "\n",
        "        input_layer = keras.layers.Input(shape = input_shape)\n",
        "\n",
        "        conv_initial = keras.layers.Conv1D(filters = n_feature_maps, kernel_size = 9, padding='same')(input_layer)\n",
        "\n",
        "        # BLOCK 1\n",
        "\n",
        "        conv_x = keras.layers.Conv1D(filters=n_feature_maps, kernel_size=9, padding='same')(conv_initial)\n",
        "        conv_x = keras.layers.BatchNormalization()(conv_x)\n",
        "        conv_x = keras.layers.Activation('relu')(conv_x)\n",
        "\n",
        "        conv_y = keras.layers.Conv1D(filters=n_feature_maps, kernel_size=9, padding='same')(conv_x)\n",
        "        conv_y = keras.layers.BatchNormalization()(conv_y)\n",
        "        conv_y = keras.layers.Activation('relu')(conv_y)\n",
        "\n",
        "        # shortcut 1\n",
        "        output_block_1 = keras.layers.add([conv_initial, conv_y])\n",
        "        output_block_1 = keras.layers.Activation('relu')(output_block_1)\n",
        "\n",
        "\n",
        "        # BLOCK 2\n",
        "\n",
        "        conv_x = keras.layers.Conv1D(filters=n_feature_maps, kernel_size=9, padding='same')(output_block_1)\n",
        "        conv_x = keras.layers.BatchNormalization()(conv_x)\n",
        "        conv_x = keras.layers.Activation('relu')(conv_x)\n",
        "\n",
        "        conv_y = keras.layers.Conv1D(filters=n_feature_maps, kernel_size=9, padding='same')(conv_x)\n",
        "        conv_y = keras.layers.BatchNormalization()(conv_y)\n",
        "        conv_y = keras.layers.Activation('relu')(conv_y)\n",
        "\n",
        "        # shortcut 2\n",
        "        output_block_2 = keras.layers.add([output_block_1, conv_y])\n",
        "        output_block_2 = keras.layers.Activation('relu')(output_block_2)\n",
        "\n",
        "\n",
        "\n",
        "\n",
        "        # BLOCK 3\n",
        "\n",
        "        conv_x = keras.layers.Conv1D(filters=n_feature_maps, kernel_size=9, padding='same')(output_block_2)\n",
        "        conv_x = keras.layers.BatchNormalization()(conv_x)\n",
        "        conv_x = keras.layers.Activation('relu')(conv_x)\n",
        "\n",
        "        conv_y = keras.layers.Conv1D(filters=n_feature_maps, kernel_size=9, padding='same')(conv_x)\n",
        "        conv_y = keras.layers.BatchNormalization()(conv_y)\n",
        "        conv_y = keras.layers.Activation('relu')(conv_y)\n",
        "\n",
        "        # shortcut 3\n",
        "        output_block_3 = keras.layers.add([output_block_2, conv_y])\n",
        "        output_block_3 = keras.layers.Activation('relu')(output_block_3)\n",
        "\n",
        "\n",
        "\n",
        "\n",
        "\n",
        "        # BLOCK 4\n",
        "\n",
        "        conv_x = keras.layers.Conv1D(filters=2*n_feature_maps, kernel_size=9, padding='same')(output_block_3)\n",
        "        conv_x = keras.layers.BatchNormalization()(conv_x)\n",
        "        conv_x = keras.layers.Activation('relu')(conv_x)\n",
        "\n",
        "        conv_y = keras.layers.Conv1D(filters=2*n_feature_maps, kernel_size=9, padding='same')(conv_x)\n",
        "        conv_y = keras.layers.BatchNormalization()(conv_y)\n",
        "        conv_y = keras.layers.Activation('relu')(conv_y)\n",
        "\n",
        "        # shortcut 4\n",
        "\n",
        "        shortcut_conv_4 = keras.layers.Conv1D(filters=2*n_feature_maps, kernel_size=1, padding=\"same\")(output_block_3)\n",
        "        shortcut_conv_4 = keras.layers.BatchNormalization()(shortcut_conv_4)\n",
        "\n",
        "\n",
        "        output_block_4 = keras.layers.add([shortcut_conv_4, conv_y])\n",
        "        output_block_4 = keras.layers.Activation('relu')(output_block_4)\n",
        "\n",
        "\n",
        "\n",
        "\n",
        "\n",
        "\n",
        "\n",
        "\n",
        "        # BLOCK 5\n",
        "\n",
        "        conv_x = keras.layers.Conv1D(filters=2*n_feature_maps, kernel_size=9, padding='same')(output_block_4)\n",
        "        conv_x = keras.layers.BatchNormalization()(conv_x)\n",
        "        conv_x = keras.layers.Activation('relu')(conv_x)\n",
        "\n",
        "        conv_y = keras.layers.Conv1D(filters=2*n_feature_maps, kernel_size=9, padding='same')(conv_x)\n",
        "        conv_y = keras.layers.BatchNormalization()(conv_y)\n",
        "        conv_y = keras.layers.Activation('relu')(conv_y)\n",
        "\n",
        "        # shortcut 5\n",
        "        output_block_5 = keras.layers.add([output_block_4, conv_y])\n",
        "        output_block_5 = keras.layers.Activation('relu')(output_block_5)\n",
        "\n",
        "\n",
        "\n",
        "\n",
        "\n",
        "\n",
        "\n",
        "        # BLOCK 6\n",
        "\n",
        "        conv_x = keras.layers.Conv1D(filters=2*n_feature_maps, kernel_size=9, padding='same')(output_block_5)\n",
        "        conv_x = keras.layers.BatchNormalization()(conv_x)\n",
        "        conv_x = keras.layers.Activation('relu')(conv_x)\n",
        "\n",
        "        conv_y = keras.layers.Conv1D(filters=2*n_feature_maps, kernel_size=9, padding='same')(conv_x)\n",
        "        conv_y = keras.layers.BatchNormalization()(conv_y)\n",
        "        conv_y = keras.layers.Activation('relu')(conv_y)\n",
        "\n",
        "        # shortcut 6\n",
        "        output_block_6 = keras.layers.add([output_block_5, conv_y])\n",
        "        output_block_6 = keras.layers.Activation('relu')(output_block_6)\n",
        "\n",
        "\n",
        "\n",
        "\n",
        "\n",
        "\n",
        "\n",
        "        # BLOCK 7\n",
        "\n",
        "        conv_x = keras.layers.Conv1D(filters=4*n_feature_maps, kernel_size=9, padding='same')(output_block_6)\n",
        "        conv_x = keras.layers.BatchNormalization()(conv_x)\n",
        "        conv_x = keras.layers.Activation('relu')(conv_x)\n",
        "\n",
        "        conv_y = keras.layers.Conv1D(filters=4*n_feature_maps, kernel_size=9, padding='same')(conv_x)\n",
        "        conv_y = keras.layers.BatchNormalization()(conv_y)\n",
        "        conv_y = keras.layers.Activation('relu')(conv_y)\n",
        "\n",
        "        # shortcut 7\n",
        "\n",
        "        shortcut_conv_7 = keras.layers.Conv1D(filters=4*n_feature_maps, kernel_size=1, padding=\"same\")(output_block_6)\n",
        "        shortcut_conv_7 = keras.layers.BatchNormalization()(shortcut_conv_7)\n",
        "\n",
        "        output_block_7 = keras.layers.add([shortcut_conv_7, conv_y])\n",
        "        output_block_7 = keras.layers.Activation('relu')(output_block_7)\n",
        "\n",
        "\n",
        "\n",
        "\n",
        "\n",
        "\n",
        "        # BLOCK 8\n",
        "\n",
        "        conv_x = keras.layers.Conv1D(filters=4*n_feature_maps, kernel_size=9, padding='same')(output_block_7)\n",
        "        conv_x = keras.layers.BatchNormalization()(conv_x)\n",
        "        conv_x = keras.layers.Activation('relu')(conv_x)\n",
        "\n",
        "        conv_y = keras.layers.Conv1D(filters=4*n_feature_maps, kernel_size=9, padding='same')(conv_x)\n",
        "        conv_y = keras.layers.BatchNormalization()(conv_y)\n",
        "        conv_y = keras.layers.Activation('relu')(conv_y)\n",
        "\n",
        "        # shortcut 8\n",
        "        output_block_8 = keras.layers.add([output_block_7, conv_y])\n",
        "        output_block_8 = keras.layers.Activation('relu')(output_block_8)\n",
        "\n",
        "\n",
        "\n",
        "\n",
        "\n",
        "        # BLOCK 9\n",
        "\n",
        "        conv_x = keras.layers.Conv1D(filters=4*n_feature_maps, kernel_size=9, padding='same')(output_block_8)\n",
        "        conv_x = keras.layers.BatchNormalization()(conv_x)\n",
        "        conv_x = keras.layers.Activation('relu')(conv_x)\n",
        "\n",
        "        conv_y = keras.layers.Conv1D(filters=4*n_feature_maps, kernel_size=9, padding='same')(conv_x)\n",
        "        conv_y = keras.layers.BatchNormalization()(conv_y)\n",
        "        conv_y = keras.layers.Activation('relu')(conv_y)\n",
        "\n",
        "        # shortcut 9\n",
        "        output_block_9 = keras.layers.add([output_block_8, conv_y])\n",
        "        output_block_9 = keras.layers.Activation('relu')(output_block_9)\n",
        "\n",
        "\n",
        "\n",
        "\n",
        "        # BLOCK 10\n",
        "\n",
        "        conv_x = keras.layers.Conv1D(filters=8*n_feature_maps, kernel_size=9, padding='same')(output_block_9)\n",
        "        conv_x = keras.layers.BatchNormalization()(conv_x)\n",
        "        conv_x = keras.layers.Activation('relu')(conv_x)\n",
        "\n",
        "        conv_y = keras.layers.Conv1D(filters=8*n_feature_maps, kernel_size=9, padding='same')(conv_x)\n",
        "        conv_y = keras.layers.BatchNormalization()(conv_y)\n",
        "        conv_y = keras.layers.Activation('relu')(conv_y)\n",
        "\n",
        "        # shortcut 10\n",
        "\n",
        "        shortcut_conv_10 = keras.layers.Conv1D(filters=8*n_feature_maps, kernel_size=1, padding=\"same\")(output_block_9)\n",
        "        shortcut_conv_10 = keras.layers.BatchNormalization()(shortcut_conv_10)\n",
        "\n",
        "        output_block_10 = keras.layers.add([shortcut_conv_10, conv_y])\n",
        "        output_block_10 = keras.layers.Activation('relu')(output_block_10)\n",
        "\n",
        "\n",
        "\n",
        "\n",
        "        # BLOCK 11\n",
        "\n",
        "        conv_x = keras.layers.Conv1D(filters=8*n_feature_maps, kernel_size=9, padding='same')(output_block_10)\n",
        "        conv_x = keras.layers.BatchNormalization()(conv_x)\n",
        "        conv_x = keras.layers.Activation('relu')(conv_x)\n",
        "\n",
        "        conv_y = keras.layers.Conv1D(filters=8*n_feature_maps, kernel_size=9, padding='same')(conv_x)\n",
        "        conv_y = keras.layers.BatchNormalization()(conv_y)\n",
        "        conv_y = keras.layers.Activation('relu')(conv_y)\n",
        "\n",
        "        # shortcut 11\n",
        "        output_block_11 = keras.layers.add([output_block_10, conv_y])\n",
        "        output_block_11 = keras.layers.Activation('relu')(output_block_11)\n",
        "\n",
        "\n",
        "\n",
        "\n",
        "        # BLOCK 12\n",
        "\n",
        "        conv_x = keras.layers.Conv1D(filters=8*n_feature_maps, kernel_size=9, padding='same')(output_block_11)\n",
        "        conv_x = keras.layers.BatchNormalization()(conv_x)\n",
        "        conv_x = keras.layers.Activation('relu')(conv_x)\n",
        "\n",
        "        conv_y = keras.layers.Conv1D(filters=8*n_feature_maps, kernel_size=9, padding='same')(conv_x)\n",
        "        conv_y = keras.layers.BatchNormalization()(conv_y)\n",
        "        conv_y = keras.layers.Activation('relu')(conv_y)\n",
        "\n",
        "        # shortcut 12\n",
        "        output_block_12 = keras.layers.add([output_block_11, conv_y])\n",
        "        output_block_12 = keras.layers.Activation('relu')(output_block_12)\n",
        "\n",
        "\n",
        "\n",
        "\n",
        "\n",
        "\n",
        "        # FINAL\n",
        "\n",
        "        gap_layer = keras.layers.GlobalAveragePooling1D()(output_block_12)\n",
        "\n",
        "        end_layer = keras.layers.Dense(970, activation=\"relu\")(gap_layer)\n",
        "\n",
        "        output_layer = keras.layers.Dense(nb_classes, activation='sigmoid')(end_layer)\n",
        "\n",
        "        model = keras.models.Model(inputs=input_layer, outputs=output_layer)\n",
        "\n",
        "        new_adam = keras.optimizers.Adam(learning_rate=0.0001)\n",
        "        \n",
        "        model.compile(loss='binary_crossentropy', optimizer=new_adam,\n",
        "                      metrics=['accuracy'])\n",
        "\n",
        "        return model\n",
        " "
      ],
      "execution_count": null,
      "outputs": []
    },
    {
      "cell_type": "code",
      "metadata": {
        "id": "i55CJ5O08EeT",
        "colab_type": "code",
        "colab": {}
      },
      "source": [
        "#copied verbatim from Resnet_trial.ipynb\n",
        "#need to manually upload the files before running this cell\n",
        "\n",
        "\n",
        "\n",
        "train_df = pd.read_csv(\"combined_train.csv\")\n",
        "train_smiles = train_df['smiles'].to_numpy()\n",
        "train_labels = train_df['label'].to_numpy()\n",
        " \n",
        "test_df = pd.read_csv(\"combined_test.csv\")\n",
        "test_smiles = test_df[\"smiles\"].to_numpy()\n",
        "test_labels = test_df[\"label\"].to_numpy()\n",
        " \n",
        " \n",
        "train_input = pd.read_csv('train_input.csv', header = None).to_numpy()\n",
        "test_input = pd.read_csv('test_input.csv', header = None).to_numpy()"
      ],
      "execution_count": null,
      "outputs": []
    },
    {
      "cell_type": "code",
      "metadata": {
        "id": "4MeIZZyw-ZLq",
        "colab_type": "code",
        "colab": {
          "base_uri": "https://localhost:8080/",
          "height": 36
        },
        "outputId": "99f1852e-0a73-46a4-d316-fa7afc09f736"
      },
      "source": [
        "len(train_input)"
      ],
      "execution_count": null,
      "outputs": [
        {
          "output_type": "execute_result",
          "data": {
            "text/plain": [
              "451"
            ]
          },
          "metadata": {
            "tags": []
          },
          "execution_count": 6
        }
      ]
    },
    {
      "cell_type": "code",
      "metadata": {
        "id": "EYxeiFq868C0",
        "colab_type": "code",
        "colab": {}
      },
      "source": [
        "main_model = Classifier_RESNET.build_model(input_shape=(881,1), nb_classes = 1)"
      ],
      "execution_count": null,
      "outputs": []
    },
    {
      "cell_type": "code",
      "metadata": {
        "id": "A1bMKV6r955y",
        "colab_type": "code",
        "colab": {
          "base_uri": "https://localhost:8080/",
          "height": 410
        },
        "outputId": "b5dedd9c-3c61-41ef-cea5-acb2bc65d15e"
      },
      "source": [
        "main_model.fit(train_input, train_labels, epochs = 10, batch_size=47, shuffle=True)"
      ],
      "execution_count": null,
      "outputs": [
        {
          "output_type": "stream",
          "text": [
            "Epoch 1/10\n",
            "10/10 [==============================] - 27s 3s/step - loss: 0.6580 - accuracy: 0.5942\n",
            "Epoch 2/10\n",
            "10/10 [==============================] - 27s 3s/step - loss: 0.6206 - accuracy: 0.6630\n",
            "Epoch 3/10\n",
            "10/10 [==============================] - 27s 3s/step - loss: 0.5975 - accuracy: 0.6807\n",
            "Epoch 4/10\n",
            "10/10 [==============================] - 27s 3s/step - loss: 0.5848 - accuracy: 0.7095\n",
            "Epoch 5/10\n",
            "10/10 [==============================] - 27s 3s/step - loss: 0.5653 - accuracy: 0.7118\n",
            "Epoch 6/10\n",
            "10/10 [==============================] - 27s 3s/step - loss: 0.5344 - accuracy: 0.7561\n",
            "Epoch 7/10\n",
            "10/10 [==============================] - 27s 3s/step - loss: 0.5063 - accuracy: 0.7871\n",
            "Epoch 8/10\n",
            "10/10 [==============================] - 27s 3s/step - loss: 0.4524 - accuracy: 0.8204\n",
            "Epoch 9/10\n",
            "10/10 [==============================] - 27s 3s/step - loss: 0.4050 - accuracy: 0.8492\n",
            "Epoch 10/10\n",
            "10/10 [==============================] - 27s 3s/step - loss: 0.3306 - accuracy: 0.8936\n"
          ],
          "name": "stdout"
        },
        {
          "output_type": "execute_result",
          "data": {
            "text/plain": [
              "<tensorflow.python.keras.callbacks.History at 0x7f07a0b6fd68>"
            ]
          },
          "metadata": {
            "tags": []
          },
          "execution_count": 18
        }
      ]
    },
    {
      "cell_type": "code",
      "metadata": {
        "id": "AQHAXqaHZCe1",
        "colab_type": "code",
        "colab": {
          "base_uri": "https://localhost:8080/",
          "height": 73
        },
        "outputId": "e5aa845a-347c-4c43-893c-672decab8f8d"
      },
      "source": [
        "test_scores = main_model.evaluate(test_input, test_labels, verbose=2)\n",
        "print(\"Test loss:\", test_scores[0])\n",
        "print(\"Test accuracy:\", test_scores[1])"
      ],
      "execution_count": null,
      "outputs": [
        {
          "output_type": "stream",
          "text": [
            "7/7 - 3s - loss: 0.7620 - accuracy: 0.4242\n",
            "Test loss: 0.7619960308074951\n",
            "Test accuracy: 0.42424243688583374\n"
          ],
          "name": "stdout"
        }
      ]
    }
  ]
}